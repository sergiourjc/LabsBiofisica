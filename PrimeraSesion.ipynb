{
 "cells": [
  {
   "cell_type": "code",
   "execution_count": null,
   "metadata": {},
   "outputs": [],
   "source": [
    "%matplotlib notebook\n",
    "#%config InlineBackend.figure_format = 'svg'\n",
    "from mpl_toolkits import mplot3d\n",
    "from mpl_toolkits.mplot3d import axes3d\n",
    "import matplotlib as mpl\n",
    "import matplotlib.pylab as plb\n",
    "import matplotlib.pyplot as plt\n",
    "import numpy as np\n",
    "from numpy import pi, sqrt, meshgrid, mgrid\n",
    "from __future__ import print_function\n",
    "from ipywidgets import interact, interactive, fixed, interact_manual, FloatSlider, Button, interactive_output, HBox\n",
    "import ipywidgets as widgets\n",
    "from IPython.display import display, HTML"
   ]
  },
  {
   "cell_type": "markdown",
   "metadata": {},
   "source": [
    "**Inicializamos algunas constantes**"
   ]
  },
  {
   "cell_type": "code",
   "execution_count": null,
   "metadata": {},
   "outputs": [],
   "source": [
    "c=299792458         # Velocidad de la luz (m/s)\n",
    "mu0=4*pi/1e7        # Permeabilidad magnética del vacío (NA^-2)\n",
    "eps0= 1/(c**2*mu0)  # Permitividad del vacío (F/m)\n",
    "ke=c**2/1e7         # Constante de Coulomb (Nm^2/C^2)"
   ]
  },
  {
   "cell_type": "markdown",
   "metadata": {},
   "source": [
    "# 1. Electrostática\n",
    "\n",
    "## Repasemos las ecuaciones\n",
    "### Empecemos por la del campo eléctrico\n",
    "### $$\\displaystyle\\mathbf{\\vec{E}}=k_e\\sum_{i=1}^{N} \\dfrac{q_i}{r_i^2}\\mathbf{\\hat{r}}$$\n",
    "¿Sabéis qué es $\\mathbf{\\hat{r}}$?"
   ]
  },
  {
   "cell_type": "markdown",
   "metadata": {},
   "source": [
    "El símbolo $\\mathbf{\\hat{}}$ identifica a los vectores unitarios; es decir, es un vector $\\mathbf{\\vec{}}$, pero con **norma** –o módulo– unidad, $\\|\\cdot\\|=1$.\n",
    "\n",
    "En física, se suele hablar de módulo, pero a mí me gusta hablar de norma, pues se deja ver más fácilmente su relación con los vectores. Dado que estamos en el espacio euclídeo, norma = módulo del vector.\n",
    "\n",
    "Pero antes, veamos matemáticamente qué es un vector:\n",
    "\n",
    "$\\mathbf{\\vec{r}}=\\begin{pmatrix}r_x\\\\r_y\\\\r_z\\end{pmatrix} ~~~$ y su transpuesta $~~~\\mathbf{\\vec{r}}^\\top=\\begin{pmatrix}r_x & r_y & r_z\\end{pmatrix}.$\n",
    "\n",
    "¿Esto qué significa? Veamos un ejemplo, pero para facilitar un poco, vayamos a un plano en $z=0$."
   ]
  },
  {
   "cell_type": "code",
   "execution_count": null,
   "metadata": {
    "scrolled": true
   },
   "outputs": [],
   "source": [
    "n=10\n",
    "fig = plt.figure()\n",
    "ax = plt.axes(projection='3d')\n",
    "xs = np.linspace(-2, 2, n)\n",
    "ys = np.linspace(-2, 2, n)\n",
    "X, Y = meshgrid(xs,ys)\n",
    "Z = np.zeros((n,n))\n",
    "ax.plot_wireframe(X, Y, Z, rstride=1, cstride=1)\n",
    "ax.set_xlabel('x')\n",
    "ax.set_ylabel('y')\n",
    "ax.set_zlabel('z')\n",
    "plt.tight_layout()\n",
    "plt.show()"
   ]
  },
  {
   "cell_type": "code",
   "execution_count": null,
   "metadata": {},
   "outputs": [],
   "source": [
    "# Elegimos un punto sobre el que se calculará las distancias de todas las coordenadas\n",
    "pos_x0,pos_y0 = np.random.randint(0,n), np.random.randint(0,n)\n",
    "# Veamos dónde ha caído dentro del plano 2D definido\n",
    "fig = plt.figure()\n",
    "ax = plt.axes(projection='3d')\n",
    "ax.plot_wireframe(X, Y, Z, rstride=1, cstride=1)\n",
    "ax.scatter3D(xs[pos_x0], ys[pos_y0], s=100)\n",
    "ax.set_xlabel('$x$', fontsize=30)\n",
    "ax.set_ylabel('$y$', fontsize=30)\n",
    "ax.set_zlabel('$z$', fontsize=30)"
   ]
  },
  {
   "cell_type": "code",
   "execution_count": null,
   "metadata": {},
   "outputs": [],
   "source": [
    "# Calculemos las distancias de todas las coordenadas al punto colocado en el plano 2D\n",
    "# Estas distancias se calculan para cada componente del vector r, es decir para las componentes x e y\n",
    "r_x, r_y = X-xs[pos_x0], Y-ys[pos_y0]"
   ]
  },
  {
   "cell_type": "code",
   "execution_count": null,
   "metadata": {},
   "outputs": [],
   "source": [
    "# Vamos a ver estas distancias en las componentes x e y del plano\n",
    "fig = plt.figure()\n",
    "ax = fig.add_subplot(1,2,1,projection='3d')\n",
    "ax.plot_surface(X, Y, r_x, rstride=1, cstride=1, cmap='Greens')\n",
    "ax.scatter3D(xs[pos_x0], ys[pos_y0], s=100)\n",
    "ax.set_xlabel('$x$', fontsize=30)\n",
    "ax.set_ylabel('$y$', fontsize=30)\n",
    "ax.set_zlabel('$r_x$', fontsize=30)\n",
    "ax.set_title('Coordenada $r_x$ de $\\mathbf{\\overrightarrow{r}}$', fontsize=20)\n",
    "ax2 = fig.add_subplot(1,2,2,projection='3d')\n",
    "ax2.plot_surface(X, Y, r_y, rstride=1, cstride=1, cmap='Greens')\n",
    "ax2.scatter3D(xs[pos_x0], ys[pos_y0], s=100)\n",
    "ax2.set_xlabel('$x$', fontsize=30)\n",
    "ax2.set_ylabel('$y$', fontsize=30)\n",
    "ax2.set_zlabel('$r_y$', fontsize=30)\n",
    "ax2.set_title('Coordenada $r_y$ de $\\mathbf{\\overrightarrow{r}}$', fontsize=20)\n",
    "plt.show()"
   ]
  },
  {
   "cell_type": "markdown",
   "metadata": {},
   "source": [
    "Una vez hemos visto las distintas coordenadas de $\\mathbf{\\vec{r}}$, podemos definir su **norma** (al cuadrado) como\n",
    "\n",
    "## $$\\|\\mathbf{\\vec{r}}\\|^2=\\mathbf{\\vec{r}}^{\\top}\\mathbf{\\vec{r}}=\\begin{pmatrix}r_x & r_y & r_z\\end{pmatrix}\\begin{pmatrix}r_x\\\\r_y\\\\r_z\\end{pmatrix}=r_x^2 + r_y^2 + r_z^2$$"
   ]
  },
  {
   "cell_type": "code",
   "execution_count": null,
   "metadata": {},
   "outputs": [],
   "source": [
    "r_norm=sqrt(r_x**2 + r_y**2)\n",
    "minVal=1e-6\n",
    "r_norm[r_norm==0.]=minVal\n",
    "r_x[r_x==0.]=minVal\n",
    "r_y[r_y==0.]=minVal"
   ]
  },
  {
   "cell_type": "code",
   "execution_count": null,
   "metadata": {},
   "outputs": [],
   "source": [
    "fig = plt.figure()\n",
    "ax = plt.axes(projection='3d')\n",
    "ax.plot_surface(X, Y, r_norm, rstride=1, cstride=1, cmap='Greens')\n",
    "ax.scatter3D(xs[pos_x0], ys[pos_y0], 0)\n",
    "ax.set_xlabel('$x$', fontsize=30)\n",
    "ax.set_ylabel('$y$', fontsize=30)\n",
    "ax.set_zlabel('$\\||\\mathbf{\\overrightarrow{r}}\\||$', fontsize=30)\n",
    "ax.set_title(u'Módulo o norma $\\||\\mathbf{\\overrightarrow{r}}\\||$ de $\\mathbf{\\overrightarrow{r}}$', fontsize=20)\n",
    "plt.show()"
   ]
  },
  {
   "cell_type": "markdown",
   "metadata": {},
   "source": [
    "### Perfecto, ya podemos definir el vector unitario $\\mathbf{\\hat{r}}$:\n",
    "\n",
    "## $$\\displaystyle\\mathbf{\\hat{r}} = \\dfrac{\\mathbf{\\vec{r}}}{\\|\\mathbf{\\vec{r}}\\|} = \\dfrac{1}{\\|\\mathbf{\\vec{r}}\\|}\\begin{pmatrix}r_x\\\\ r_y\\end{pmatrix} = \\begin{pmatrix}\\frac{r_x}{\\|\\mathbf{\\vec{r}}\\|}\\\\ \\frac{r_y}{\\|\\mathbf{\\vec{r}}\\|}\\end{pmatrix}$$"
   ]
  },
  {
   "cell_type": "code",
   "execution_count": null,
   "metadata": {},
   "outputs": [],
   "source": [
    "rx_hat=np.divide(r_x,r_norm)\n",
    "ry_hat=np.divide(r_y,r_norm)"
   ]
  },
  {
   "cell_type": "code",
   "execution_count": null,
   "metadata": {
    "scrolled": false
   },
   "outputs": [],
   "source": [
    "fig = plt.figure()\n",
    "ax = fig.add_subplot(1,2,1,projection='3d')\n",
    "ax.plot_surface(X, Y, rx_hat, rstride=1, cstride=1, cmap='Greens')\n",
    "ax.scatter3D(xs[pos_x0], ys[pos_y0], s=100)\n",
    "ax.set_xlabel('$x$', fontsize=30)\n",
    "ax.set_ylabel('$y$', fontsize=30)\n",
    "ax.set_zlabel('$\\hat{r}_x$', fontsize=30)\n",
    "ax.set_title('Coordenada $\\hat{r}_x$ de $\\mathbf{\\hat{r}}$', fontsize=20)\n",
    "ax2 = fig.add_subplot(1,2,2,projection='3d')\n",
    "ax2.plot_surface(X, Y, ry_hat, rstride=1, cstride=1, cmap='Greens')\n",
    "ax2.scatter3D(xs[pos_x0], ys[pos_y0], s=100)\n",
    "ax2.set_xlabel('$x$', fontsize=30)\n",
    "ax2.set_ylabel('$y$', fontsize=30)\n",
    "ax2.set_zlabel('$\\hat{r}_y$', fontsize=30)\n",
    "ax2.set_title('Coordenada $\\hat{r}_y$ de $\\mathbf{\\hat{r}}$', fontsize=20)\n",
    "plt.show()"
   ]
  },
  {
   "cell_type": "markdown",
   "metadata": {},
   "source": [
    "## ¿Pero no habíamos dicho que $\\mathbf{\\hat{r}}$ es unitario?\n",
    "Sí, pero recordad que se acaba de mostrar las componentes $x$ e $y$ de $\\mathbf{\\hat{r}}$: $\\hat{r}_x$ y $\\hat{r}_y$.\n",
    "\n",
    "## ¡Comprobemos que $\\mathbf{\\hat{r}}$ tiene módulo/norma 1 en todas sus componentes!\n",
    "Para eso, recordemos de nuevo que el módulo se calcula a partir de sus componentes mediante la siguiente ecuación:\n",
    "### $$\\|\\mathbf{\\hat{r}}\\| = \\sqrt{\\hat{r_x}^2 + \\hat{r_y}^2}$$"
   ]
  },
  {
   "cell_type": "code",
   "execution_count": null,
   "metadata": {
    "scrolled": true
   },
   "outputs": [],
   "source": [
    "r_norm=sqrt(r_x**2 + r_y**2)\n",
    "rx_hat=np.divide(r_x,r_norm)\n",
    "ry_hat=np.divide(r_y,r_norm)\n",
    "r_hat = sqrt(rx_hat**2 + ry_hat**2)\n",
    "r_hat"
   ]
  },
  {
   "cell_type": "markdown",
   "metadata": {},
   "source": [
    "Como podéis ver, el módulo es 1 en todas las coordenadas del plano 2D definido. :)"
   ]
  },
  {
   "cell_type": "markdown",
   "metadata": {},
   "source": [
    "## ¡Genial! Volvamos al campo eléctrico...\n",
    "\n",
    "## $$\\displaystyle\\mathbf{\\vec{E}}=k_e\\sum_{i=1}^{N} \\dfrac{q_i}{r_i^2}\\mathbf{\\hat{r}}$$\n",
    "\n",
    "Ahora ya resulta sencillo visualizar el campo eléctrico. :)\n",
    "\n",
    "Un único detalle más que viene bien recordar es que $\\|\\mathbf{\\vec{r}}\\|=r_i$. Por lo tanto, podemos definir las distintas coordenadas del campo eléctrico del siguiente modo:\n",
    "$$\\displaystyle E_x=k_e\\sum_{i=1}^{N} \\dfrac{q_i}{r_i^3}r_x$$\n",
    "\n",
    "$$\\displaystyle E_y=k_e\\sum_{i=1}^{N} \\dfrac{q_i}{r_i^3}r_y$$"
   ]
  },
  {
   "cell_type": "markdown",
   "metadata": {},
   "source": [
    "## Vayamos a por las cargas\n",
    "### Para implementarlo, un poquito de programación orientado a objetos..."
   ]
  },
  {
   "cell_type": "code",
   "execution_count": null,
   "metadata": {},
   "outputs": [],
   "source": [
    "class carga:\n",
    "    def __init__(self, q, posx, posy):\n",
    "        self.q=q*1e-6\n",
    "        self.pos=[posx,posy]"
   ]
  },
  {
   "cell_type": "code",
   "execution_count": null,
   "metadata": {},
   "outputs": [],
   "source": [
    "def E_field(cargas, X, Y):\n",
    "    Ex, Ey = 0, 0\n",
    "    for Q in cargas:\n",
    "        r_x, r_y = X-Q.pos[0], Y-Q.pos[1]\n",
    "        r = sqrt(r_x**2 + r_y**2)\n",
    "        r[r==0.] = minVal; r_x[r_x==0.] = minVal; r_y[r_y==0.] = minVal\n",
    "        Ex += ke*Q.q*np.divide(r_x,r**3)\n",
    "        Ey += ke*Q.q*np.divide(r_y,r**3)\n",
    "    return Ex, Ey"
   ]
  },
  {
   "cell_type": "code",
   "execution_count": null,
   "metadata": {},
   "outputs": [],
   "source": [
    "def getCargas(q, posx, posy):\n",
    "    return carga(q,posx,posy)"
   ]
  },
  {
   "cell_type": "markdown",
   "metadata": {},
   "source": [
    "## Empecemos a jugar"
   ]
  },
  {
   "cell_type": "code",
   "execution_count": null,
   "metadata": {},
   "outputs": [],
   "source": [
    "# Definamos el campo de juego\n",
    "n=64                        # Nro. de puntos en cada eje del tablero (dominio del espacio vectorial)\n",
    "xs = np.linspace(-2, 2, n)  # Eje x del tablero (dominio del espacio vectorial)\n",
    "ys = np.linspace(-2, 2, n)  # Eje y del tablero (dominio del espacio vectorial)\n",
    "X, Y = meshgrid(xs,ys)      # Se crea el tablero (se necesitan las coordenadas X e Y por separado)"
   ]
  },
  {
   "cell_type": "code",
   "execution_count": null,
   "metadata": {
    "scrolled": false
   },
   "outputs": [],
   "source": [
    "Qs=[] # En esta lista se irán guardando las cargas creadas (cada carga es una instancia del objeto o clase carga)\n",
    "qw=FloatSlider(min=-20.,max=20.,step=1.,description='carga ($\\mu$C):',readout_format='.1f')\n",
    "xw=FloatSlider(min=-2.,max=2.,step=.1,description=u'pos. eje x:',readout_format='.1f')\n",
    "yw=FloatSlider(min=-2.,max=2.,step=.1,description=u'pos. eje y:',readout_format='.1f')\n",
    "button=Button(description='Crea carga',icon='check')\n",
    "ui = HBox([qw, xw, yw])\n",
    "Q = interactive_output(getCargas,{'q':qw,'posx':xw,'posy':yw});\n",
    "display(ui, Q)\n",
    "display(button)\n",
    "def creaCarga(b):\n",
    "    q, posx, posy = qw.value, xw.value, yw.value\n",
    "    print(\"%da carga creada en (%.1f,%.1f) con valor q=%.1f mmC\" % (len(Qs)+1,posx,posy,qw.value))\n",
    "    return Qs.append(carga(q,posx,posy))\n",
    "button.on_click(creaCarga)"
   ]
  },
  {
   "cell_type": "code",
   "execution_count": null,
   "metadata": {},
   "outputs": [],
   "source": [
    "Ex, Ey = E_field(Qs, X, Y)"
   ]
  },
  {
   "cell_type": "code",
   "execution_count": null,
   "metadata": {},
   "outputs": [],
   "source": [
    "E=sqrt(Ex**2+Ey**2)\n",
    "Emax=1e7; E[E>Emax]=Emax; E[E<-Emax]=-Emax; # Se acota para mejorar la visualización"
   ]
  },
  {
   "cell_type": "code",
   "execution_count": null,
   "metadata": {},
   "outputs": [],
   "source": [
    "# Se visualizan las líneas de campo\n",
    "fig = plt.figure()\n",
    "ax = fig.add_subplot(111)\n",
    "color = 2 * np.log(np.hypot(Ex, Ey))\n",
    "ax.streamplot(xs, ys, Ex, Ey, color=color, linewidth=1, cmap=plt.cm.Purples, density=2, arrowstyle='->', arrowsize=1.5)\n",
    "charge_colors = {True: '#aa0000', False: '#0000aa'}\n",
    "for q in Qs:\n",
    "    ax.add_artist(mpl.patches.Circle(q.pos, 0.05, color=charge_colors[q.q>0]))\n",
    "ax.set_xlabel('$x$'); ax.set_ylabel('$y$')\n",
    "ax.set_xlim(-2,2); ax.set_ylim(-2,2)\n",
    "ax.set_aspect('equal')\n",
    "plt.show()"
   ]
  },
  {
   "cell_type": "code",
   "execution_count": null,
   "metadata": {
    "scrolled": false
   },
   "outputs": [],
   "source": [
    "# Usando surface se puede ver mucho mejor la magnitud en función de la carga\n",
    "fig = plt.figure()\n",
    "ax = plt.axes(projection='3d')\n",
    "ax.plot_surface(X, Y, E*1e-6, rstride=1, cstride=1, cmap='Purples')\n",
    "ax.set_xlabel('$x$', fontsize=30)\n",
    "ax.set_ylabel('$y$', fontsize=30)\n",
    "ax.set_zlabel('$\\|E\\| (MV/m)$', fontsize=20)\n",
    "plt.tight_layout()\n",
    "plt.show()"
   ]
  },
  {
   "cell_type": "code",
   "execution_count": null,
   "metadata": {},
   "outputs": [],
   "source": []
  },
  {
   "cell_type": "markdown",
   "metadata": {},
   "source": [
    "## Por último, ¿qué me decís del Potencial?\n",
    "### ¿Me sabríais decir una gran diferencia?\n",
    "\n",
    "Eso es, es una magnitud escalar, no vectorial... por lo tanto, ya no hay que preocuparse por el vector unitario $\\mathbf{\\hat{r}}$... ni de ningún vector. :)\n",
    "\n",
    "Recordemos la ecuación:\n",
    "### $$\\displaystyle V=k_e\\sum_{i=1}^N \\dfrac{q_i}{r_i}$$"
   ]
  },
  {
   "cell_type": "code",
   "execution_count": null,
   "metadata": {},
   "outputs": [],
   "source": [
    "def Potencial(cargas, X, Y):\n",
    "    V = 0\n",
    "    for Q in cargas:\n",
    "        r_x, r_y = X-Q.pos[0], Y-Q.pos[1]\n",
    "        r = sqrt(r_x**2 + r_y**2)\n",
    "        r[r==0.] = minVal # Se pone un valor mínimo en los ceros para evitar problemas numéricos\n",
    "        V += ke*Q.q*np.divide(1,r)\n",
    "    return V"
   ]
  },
  {
   "cell_type": "code",
   "execution_count": null,
   "metadata": {},
   "outputs": [],
   "source": [
    "# Calculamos el Potencial\n",
    "V = Potencial(Qs, X, Y)\n",
    "Vmax=1e6; V[V>Vmax]=Vmax; V[V<-Vmax]=-Vmax # Se acotan los valores muy altos para mejorar la visualización"
   ]
  },
  {
   "cell_type": "code",
   "execution_count": null,
   "metadata": {},
   "outputs": [],
   "source": [
    "# Lo vemos con otro tipo de visualización... \n",
    "plt.figure()\n",
    "im = plt.imshow(V, interpolation='bilinear', cmap=plt.cm.RdYlGn,\n",
    "                origin='lower', extent=[-2, 2, -2, 2],\n",
    "                vmax=abs(V).max(), vmin=-abs(V).max())\n",
    "plt.show()"
   ]
  },
  {
   "cell_type": "code",
   "execution_count": null,
   "metadata": {},
   "outputs": [],
   "source": [
    "# Veamos con esta visualización qué tal...\n",
    "fig = plt.figure()\n",
    "ax = plt.axes(projection='3d')\n",
    "ax.plot_surface(X, Y, V*1e-6, rstride=1, cstride=1, cmap='Purples')\n",
    "ax.set_xlabel('$x$', fontsize=30)\n",
    "ax.set_ylabel('$y$', fontsize=30)\n",
    "ax.set_zlabel('$V (MV)$', fontsize=20)\n",
    "plt.tight_layout()\n",
    "plt.show()"
   ]
  },
  {
   "cell_type": "code",
   "execution_count": null,
   "metadata": {},
   "outputs": [],
   "source": []
  },
  {
   "cell_type": "markdown",
   "metadata": {},
   "source": [
    "# 2. Magnetostática\n",
    "\n",
    "*Esto me recuerda que se acerca el día de la madre...\n",
    "Tengo en mente regalar el corazón de este vídeo, ¿qué me decís?:"
   ]
  },
  {
   "cell_type": "code",
   "execution_count": null,
   "metadata": {},
   "outputs": [],
   "source": [
    "HTML('<iframe width=\"560\" height=\"315\" src=\"https://www.youtube.com/embed/voHz6sxwQ2Q?rel=0&amp;controls=0&amp;showinfo=0;start=35;end=49\" frameborder=\"0\" allowfullscreen></iframe>')"
   ]
  },
  {
   "cell_type": "markdown",
   "metadata": {},
   "source": [
    "## Repasemos la ecuación del campo magnético\n",
    "\n",
    "### $$\\mathbf{\\vec{B}}=\\dfrac{\\mu_0 I}{4\\pi}\\int \\dfrac{d\\mathbf{\\vec{l}}\\times \\mathbf{\\hat{r}}}{r^2}$$\n",
    "\n",
    "### ¡Producto vectorial!"
   ]
  },
  {
   "cell_type": "code",
   "execution_count": null,
   "metadata": {
    "scrolled": false
   },
   "outputs": [],
   "source": [
    "HTML('<iframe width=\"560\" height=\"315\" src=\"https://www.youtube.com/embed/11I9szxKabU?rel=0&amp;controls=1&amp;showinfo=0;\" frameborder=\"0\" allowfullscreen></iframe>')"
   ]
  },
  {
   "cell_type": "markdown",
   "metadata": {},
   "source": [
    "Ejecutemos a continuación una [implementación](http://firsttimeprogrammer.blogspot.com.es/2015/05/biot-savart-law-magnetic-field-of.html) del campo magnético en uno de los casos sencillitos.\n",
    "\n",
    "¿Por qué se ha hecho esto? ¿Dónde está la parte en la que se definen las componentes del vector? ¿Dónde debería estar el producto vectorial?"
   ]
  },
  {
   "cell_type": "code",
   "execution_count": null,
   "metadata": {
    "scrolled": false
   },
   "outputs": [],
   "source": [
    "# Se define el espacio 3D (dominio) a considerar\n",
    "x = np.linspace(-4,4,10)\n",
    "y = np.linspace(-4,4,10)\n",
    "z = np.linspace(-4,4,10)\n",
    "x,y,z = np.meshgrid(x,y,z)\n",
    "\n",
    "# Se define la corriente\n",
    "I = 1                                                # Corriente (A)\n",
    "\n",
    "def B(x,y,z,I):                  \n",
    "    mag = (mu0/(2*np.pi))*(I/np.sqrt((x)**2+(y)**2)) # Magnitude of the vector B\n",
    "    by = mag * (np.cos(np.arctan2(y,x)))             # By\n",
    "    bx = mag * (-np.sin(np.arctan2(y,x)))            # Bx\n",
    "    bz = z*0                                         # Bz (zero, using the right-hand rule)\n",
    "    return bx,by,bz\n",
    "\n",
    "def cylinder(r):\n",
    "    phi = np.linspace(-2*np.pi,2*np.pi,100)\n",
    "    x = r*np.cos(phi)\n",
    "    y = r*np.sin(phi)\n",
    "    return x,y\n",
    "\n",
    "# Se calcula el campo magnético\n",
    "bx,by,bz = B(x,y,z,I)                                # Magnetic field\n",
    "\n",
    "# Plot of the 3d vector field\n",
    "fig = plt.figure()\n",
    "ax = fig.gca(projection='3d')\n",
    "ax.quiver(x,y,z,bx,by,bz,color='b',length=1,normalize=True)\n",
    "# Plot the wire\n",
    "cx,cy = cylinder(0.2)                                # Wire\n",
    "for i in np.linspace(-4,4,800):                     \n",
    "    ax.plot(cx,cy,i,label='Cylinder',color='r')\n",
    "\n",
    "plt.title('Magnetic field of a straight wire')\n",
    "plt.xlabel('x')\n",
    "plt.ylabel('y')\n",
    "plt.show()"
   ]
  },
  {
   "cell_type": "markdown",
   "metadata": {},
   "source": [
    "## Ejercicio propuesto como posible entregable del laboratorio\n",
    "\n",
    "### Calcular el campo magnético para el mismo caso de arriba, pero usando la ecuación\n",
    "### $$\\mathbf{\\vec{B}}=\\dfrac{\\mu_0 I}{4\\pi}\\int \\dfrac{d\\mathbf{\\vec{l}}\\times \\mathbf{\\hat{r}}}{r^2},$$\n",
    "### es decir, usando el producto vectorial; y mostrar que sale lo mismo que en el caso anterior.\n",
    "\n",
    "Para ello, se aconseja dividir el cilindro en partes pequeñas de misma longitud y ir acumulando –sumando– el campo resultante. Para el cálculo de cada parte puede resultar de mucha ayuda basarse en el cálculo del campo eléctrico, con el cuidado de que en este caso se trata de un producto vectorial. En python, el producto vectorial se puede calcular fácilmente usando la función ```np.cross```."
   ]
  },
  {
   "cell_type": "code",
   "execution_count": null,
   "metadata": {},
   "outputs": [],
   "source": []
  },
  {
   "cell_type": "markdown",
   "metadata": {},
   "source": [
    "# 3. Evaluación de los laboratorios\n",
    "\n",
    "Cada alumno aprende y muestra sus conocimientos de muchas maneras distintas, en función de la persona, del momento o de la motivación de cada uno en cada momento. Por eso, para la evaluación de la práctica, se proponen varias alternativas:\n",
    "\n",
    "1. Para la gente que le gusta escribir y contar o resumir lo que ha visto o aprendido: una memoria explicando qué se ha visto en esta sesión del laboratorio.\n",
    "2. Para las personas que prefieren resolver un problema: realizar el ejercicio propuesto. Para su realización, se puede usar este enlace. Siempre se puede guardar el código y mandarlo. La explicación puede ir dentro de este mismo notebook que se descargaría.\n",
    "3. Para los que tienen una fuerte naturaleza investigadora y se guían por sus motivaciones: conseguir implementar algo que les motive sobre lo visto en teoría y mostrar resultados interesantes.\n"
   ]
  },
  {
   "cell_type": "code",
   "execution_count": null,
   "metadata": {},
   "outputs": [],
   "source": []
  },
  {
   "cell_type": "markdown",
   "metadata": {},
   "source": [
    "### Un ejemplo de entregable del tipo del punto 3\n",
    "# ¡Esto ya es de Matrícula! :O"
   ]
  },
  {
   "cell_type": "markdown",
   "metadata": {},
   "source": [
    "Os dejo por aquí esto que ya es de otro nivel... es de un tal Gael Varoquaux –véase la descripción que se encuentra dentro de la función– y merece bastante la pena pararse a jugar un poco con ello e identificar todo lo que está pasando con la teoría que ya os sabéis. ;)"
   ]
  },
  {
   "cell_type": "code",
   "execution_count": null,
   "metadata": {},
   "outputs": [],
   "source": [
    "run magnetic_field.py"
   ]
  },
  {
   "cell_type": "code",
   "execution_count": null,
   "metadata": {},
   "outputs": [],
   "source": []
  },
  {
   "cell_type": "markdown",
   "metadata": {},
   "source": [
    "Hasta la próxima sesión. :)"
   ]
  }
 ],
 "metadata": {
  "kernelspec": {
   "display_name": "Python 2",
   "language": "python",
   "name": "python2"
  },
  "language_info": {
   "codemirror_mode": {
    "name": "ipython",
    "version": 2
   },
   "file_extension": ".py",
   "mimetype": "text/x-python",
   "name": "python",
   "nbconvert_exporter": "python",
   "pygments_lexer": "ipython2",
   "version": "2.7.14"
  }
 },
 "nbformat": 4,
 "nbformat_minor": 2
}
