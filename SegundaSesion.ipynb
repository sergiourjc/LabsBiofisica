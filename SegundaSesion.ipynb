{
 "cells": [
  {
   "cell_type": "code",
   "execution_count": null,
   "metadata": {},
   "outputs": [],
   "source": [
    "%matplotlib notebook\n",
    "#%config InlineBackend.figure_format = 'svg'\n",
    "from mpl_toolkits import mplot3d\n",
    "from mpl_toolkits.mplot3d import axes3d\n",
    "import matplotlib as mpl\n",
    "import matplotlib.pylab as plb\n",
    "import matplotlib.pyplot as plt\n",
    "import numpy as np\n",
    "from numpy import pi, sqrt, meshgrid, mgrid\n",
    "from __future__ import print_function\n",
    "from ipywidgets import interact, interactive, fixed, interact_manual, FloatSlider, Button, interactive_output, HBox\n",
    "import ipywidgets as widgets\n",
    "from IPython.display import display, HTML\n",
    "from scipy.integrate import odeint\n",
    "import matplotlib.animation as animation\n",
    "import time"
   ]
  },
  {
   "cell_type": "code",
   "execution_count": null,
   "metadata": {},
   "outputs": [],
   "source": [
    "# Inicializamos algunas constantes que podemos usar más adelante\n",
    "c=299792458         # Velocidad de la luz (m/s)\n",
    "mu0=4*pi/1e7        # Permeabilidad magnética del vacío (NA^-2)\n",
    "eps0= 1/(c**2*mu0)  # Permitividad del vacío (F/m)\n",
    "ke=c**2/1e7         # Constante de Coulomb (Nm^2/C^2)"
   ]
  },
  {
   "cell_type": "markdown",
   "metadata": {},
   "source": [
    "# 3. Componentes eléctricos"
   ]
  },
  {
   "cell_type": "markdown",
   "metadata": {},
   "source": [
    "## Empecemos por la resistencia\n",
    "\n",
    "¿Alguien ha visto alguna vez una resistencia en un circuito?\n",
    "\n",
    "https://phet.colorado.edu/en/simulations/category/html (explorando un poco, se puede aprender mucho :D)"
   ]
  },
  {
   "cell_type": "markdown",
   "metadata": {},
   "source": [
    "### $$\\Delta V_R = I R$$"
   ]
  },
  {
   "cell_type": "markdown",
   "metadata": {},
   "source": [
    "## Y de la bobina en un circuito, ¿qué me podéis decir?"
   ]
  },
  {
   "cell_type": "markdown",
   "metadata": {},
   "source": [
    "Cuando llega la corriente –cambio de corriente– al primer bucle, se crea un campo magnético –que pasa por los demás bucles–. Como ha habido una variación del campo magnético, también se crea un campo eléctrico –en los demás bucles también–. Esto genera a su vez una diferencia de potencial y, por lo tanto, la bobina estaría actuando como una batería.\n",
    "### Insisto de nuevo: ha de haber un cambio de corriente –como bien expresa la siguiente ecuación–.\n",
    "### $$\\displaystyle\\Delta V_L = - L \\dfrac{di}{dt}$$\n",
    "L solo depende de la geometría de la bobina.\n",
    "\n",
    "### Resumiendo:\n",
    "+ Si no hay cambio en la corriente (**corriente continua**, DC): **no hace nada**, como si no estuviera.\n",
    "+ Si sí hay cambio en la corriente (**corriente alterna**, AC): habrá una mayor diferencia de potencial cuanto mayor sea la frecuencia –variación– de la corriente. **Batería**."
   ]
  },
  {
   "cell_type": "markdown",
   "metadata": {},
   "source": [
    "## ¡Veamos ahora el condensador!"
   ]
  },
  {
   "cell_type": "markdown",
   "metadata": {},
   "source": [
    "La carga eléctrica acumulada en las placas genera un campo eléctrico y, por consiguiente, también aparece un cambio de potencial entre las placas:\n",
    "### $$\\displaystyle\\Delta V_C=\\dfrac{Q}{C},$$\n",
    "donde Q es la carga que se encuentra en cada placa por igual –como son de signo opuesto en cada placa, su suma neta es cero– y C solo depende de las propiedades físicas del condensador.\n",
    "\n",
    "### A destacar –contrario a la bobina–:\n",
    "+ En **corriente continua** (CC o, en inglés, DC), la corriente inyecta carga de manera constante al condensador, aumentando su diferencia de potencial hasta ser igual que la batería: en este momento, el condensador se comporta como **circuito abierto**.\n",
    "+ En **corriente alterna** (AC): el condensador se carga y descarga constantemente, no se termina acumulando carga y, por lo tanto, no influye en nada, **como si no estuviera**.\n",
    "\n",
    "https://phet.colorado.edu/sims/html/capacitor-lab-basics/latest/capacitor-lab-basics_en.html"
   ]
  },
  {
   "cell_type": "markdown",
   "metadata": {},
   "source": [
    "¿Recordáis la sesión anterior, cuando jugábamos con las cargas?\n",
    "Vamos a tomar prestado algunas funciones de allí. :)"
   ]
  },
  {
   "cell_type": "code",
   "execution_count": null,
   "metadata": {
    "scrolled": false
   },
   "outputs": [],
   "source": [
    "class carga:\n",
    "    def __init__(self, q, posx, posy):\n",
    "        self.q=q*1e-6\n",
    "        self.pos=[posx,posy]\n",
    "def E_field(cargas, X, Y):\n",
    "    Ex, Ey = 0, 0\n",
    "    for Q in cargas:\n",
    "        r_x, r_y = X-Q.pos[0], Y-Q.pos[1]\n",
    "        r = sqrt(r_x**2 + r_y**2)\n",
    "        r[r==0.] = minVal; r_x[r_x==0.] = minVal; r_y[r_y==0.] = minVal\n",
    "        Ex += ke*Q.q*np.divide(r_x,r**3)\n",
    "        Ey += ke*Q.q*np.divide(r_y,r**3)\n",
    "    return Ex, Ey\n",
    "def Potencial(cargas, X, Y):\n",
    "    V = 0\n",
    "    for Q in cargas:\n",
    "        r_x, r_y = X-Q.pos[0], Y-Q.pos[1]\n",
    "        r = sqrt(r_x**2 + r_y**2)\n",
    "        r[r==0.] = minVal # Se pone un valor mínimo en los ceros para evitar problemas numéricos\n",
    "        V += ke*Q.q*np.divide(1,r)\n",
    "    return V\n",
    "def getCargas(q, posx, posy):\n",
    "    return carga(q,posx,posy)\n",
    "\n",
    "n=64                        # Nro. de puntos en cada eje del tablero (dominio del espacio vectorial)\n",
    "xs = np.linspace(-2, 2, n)  # Eje x del tablero (dominio del espacio vectorial)\n",
    "ys = np.linspace(-2, 2, n)  # Eje y del tablero (dominio del espacio vectorial)\n",
    "X, Y = meshgrid(xs,ys)      # Se crea el tablero (se necesitan las coordenadas X e Y por separado)\n",
    "\n",
    "n=1; d=0.4; q=1.0; Qs=[]; minVal=1e-6;\n",
    "posy_placas=np.linspace(-.5,.5,n);\n",
    "posx_placa1=-d/2*np.ones(n); posx_placa2=d/2*np.ones(n);\n",
    "for i in xrange(n):\n",
    "    Qs.append(carga(-q,posx_placa1[i],posy_placas[i]))\n",
    "    Qs.append(carga(q,posx_placa2[i],posy_placas[i]))\n",
    "    V = Potencial(Qs, X, Y)\n",
    "fig = plt.figure()\n",
    "ax = fig.add_subplot(111, projection='3d')\n",
    "#line = plt.imshow(V, interpolation='bilinear', cmap=plt.cm.RdYlGn,origin='lower', extent=[-2, 2, -2, 2],vmax=abs(V).max(), vmin=-abs(V).max())\n",
    "line = ax.plot_surface(X, Y, V*1e-6, rstride=1, cstride=1, cmap='Purples')\n",
    "#ax.set_zlim([-100,100])\n",
    "#ax.set_xlabel('$x$', fontsize=30)\n",
    "#ax.set_ylabel('$y$', fontsize=30)\n",
    "#ax.set_zlabel('$V (MV)$', fontsize=20)\n",
    "#ax.set_title('Neuron potential with $Im='+str(I)+'$ $\\mu A/cm^2$')\n",
    "\n",
    "def init():\n",
    "    line.set_data(([],[]))\n",
    "    return line\n",
    "\n",
    "def data(n):\n",
    "    posy_placas=np.linspace(-.5,.5,n);\n",
    "    posx_placa1=-d/2*np.ones(n); posx_placa2=d/2*np.ones(n);\n",
    "    for i in xrange(n):\n",
    "        Qs.append(carga(-q,posx_placa1[i],posy_placas[i]))\n",
    "        Qs.append(carga(q,posx_placa2[i],posy_placas[i]))\n",
    "    V = Potencial(Qs, X, Y)\n",
    "    ax.clear()\n",
    "    ax.grid(False)\n",
    "    line = ax.plot_surface(X, Y, V*1e-6, rstride=1, cstride=1, cmap='Purples')\n",
    "    #line = plt.imshow(V, interpolation='bilinear', cmap=plt.cm.RdYlGn,origin='lower', extent=[-2, 2, -2, 2],vmax=abs(V).max(), vmin=-abs(V).max())\n",
    "    return line\n",
    "\n",
    "#ani = animation.FuncAnimation(fig, data, init_func=init, interval=100, frames=xrange(1,20,1), blit=True)\n",
    "ani = animation.FuncAnimation(fig, data, interval=100, frames=xrange(1,20,1), blit=False)\n",
    "plt.show()\n"
   ]
  },
  {
   "cell_type": "markdown",
   "metadata": {},
   "source": [
    "## ¡Perfecto, ya tenemos el condensador cargado!"
   ]
  },
  {
   "cell_type": "markdown",
   "metadata": {},
   "source": [
    "### ¿Qué pasa si conectamos una resistencia y/o una bobina?\n",
    "Vayamos por partes..."
   ]
  },
  {
   "cell_type": "markdown",
   "metadata": {},
   "source": [
    "Lo suyo sería dibujar el circuito, pero dado que es muy sencillo, voy a dejar que lo hagáis vosotros, seríais capaces –clarto que sí–.\n",
    "Para ello, poneros en mi piel, necesito poneros un circuito en la práctica. Lo primero, buscar en internet qué herramientas existen. ¡Qué bueno! Tras un rato buscando, he encontrado este [enlace](https://mybinder.org/v2/gh/psychemedia/showntell/electronics) donde podéis encontrar un resumen de las herramientas que existen para dibujar y/o analizar circuitos. :D\n",
    "Siguiente paso, encontrar la herramienta que más os guste, aprender a manejarla y usarla para vuestro propio fin."
   ]
  },
  {
   "cell_type": "markdown",
   "metadata": {},
   "source": [
    "### Vayamos ahora a resolver el circuito. Para ello, apliquemos la ley de Kirchoff. \n",
    "### $$\\Delta V_C + \\Delta V_L \\Delta V_R = 0$$\n",
    "### $$\\displaystyle\\dfrac{Q}{C} + -L\\dfrac{di}{dt} -IR = 0$$\n",
    "Ya está casi... solo nos falta una ecuacioncilla más, muy sencillita:\n",
    "$$i=\\dfrac{dQ}{dt}$$\n",
    "Pues vamos a sustituir:\n",
    "### $$\\displaystyle\\dfrac{Q}{C} + -L\\dfrac{d^2Q}{dQ^2} -IR = 0$$\n",
    "## ¡¡¡¡¡Ecuación diferencial se segundo orden!!!!! :O\n",
    "\n",
    "### XD XD XD, no os preocupéis, la podemos resolver muy fácilmente en el ordenador. :)\n"
   ]
  },
  {
   "cell_type": "code",
   "execution_count": null,
   "metadata": {},
   "outputs": [],
   "source": [
    "%matplotlib notebook\n",
    "import matplotlib.pylab as plb\n",
    "import matplotlib.pyplot as plt\n",
    "import numpy as np\n",
    "\n",
    "# Damos unos valores razonables a las componentes\n",
    "C=5e-3\n",
    "L=300e-3\n",
    "R=3.\n",
    "V0=3.\n",
    "dt=0.001  # Paso en el tiempo (1 ms)\n",
    "T=2000    # 2 segundos\n",
    "Q=np.zeros(T+1); dQ=np.zeros(T+1); ddQ=np.zeros(T+1); t=np.zeros(T+1)\n",
    "Q[0]=V0*C; dQ[0]=0; ddQ[0]=0;\n",
    "for i in xrange(T):\n",
    "    #ddQ[i+1]=-Q[i]/(L*C)-dQ[i]*R/L # Circuito RLC\n",
    "    ddQ[i+1]=-Q[i]/(L*C)          # Circuito LC\n",
    "    dQ[i+1]=dQ[i]+ddQ[i+1]*dt\n",
    "    Q[i+1]=Q[i]+dQ[i+1]*dt\n",
    "    t[i+1]=t[i]+dt"
   ]
  },
  {
   "cell_type": "code",
   "execution_count": null,
   "metadata": {
    "scrolled": false
   },
   "outputs": [],
   "source": [
    "# Nuestra aproximación para la corriente en el circuito LC\n",
    "I=np.divide(dQ,dt)\n",
    "# Solución LC teórica\n",
    "w=1/np.sqrt(L*C)\n",
    "I_lc=np.divide(-Q[0]*w*np.sin(w*t),dt)\n",
    "# Solución RLC teórica\n",
    "w=np.sqrt(1/(L*C) - (R/(2*L))**2)\n",
    "Q_rlc=Q[0]*np.exp(-R/(2*L)*t)*np.cos(w*t)\n",
    "# Comparamos nuestra aproximación rápida numérica con la teórica\n",
    "fig = plt.figure()\n",
    "ax = fig.add_subplot(111)\n",
    "ax.plot(t,I,label='Numerica')\n",
    "ax.plot(t,I_lc,label='Teorica') # Circuito RL\n",
    "#ax.plot(t,Q,label='Numerica')\n",
    "#ax.plot(t,Q_rlc,label='Teorica')  # Circuito RLC\n",
    "ax.legend()\n",
    "plt.show()"
   ]
  },
  {
   "cell_type": "code",
   "execution_count": null,
   "metadata": {},
   "outputs": [],
   "source": []
  },
  {
   "cell_type": "markdown",
   "metadata": {},
   "source": [
    "# Hodgkin–Huxley model"
   ]
  },
  {
   "cell_type": "markdown",
   "metadata": {},
   "source": [
    "## Vamos a motivarnos un poco..."
   ]
  },
  {
   "cell_type": "code",
   "execution_count": null,
   "metadata": {
    "scrolled": false
   },
   "outputs": [],
   "source": [
    "from IPython.display import display, HTML\n",
    "HTML('<iframe width=\"560\" height=\"315\" src=\"https://www.youtube.com/embed/aM9i9cU-MCY?rel=0&amp;controls=1&amp;showinfo=0;\" frameborder=\"0\" allowfullscreen></iframe>')"
   ]
  },
  {
   "cell_type": "markdown",
   "metadata": {},
   "source": [
    "## ...para que la creatividad sea una de nuestras grandes fortalezas (o la mayor de todas)"
   ]
  },
  {
   "cell_type": "markdown",
   "metadata": {},
   "source": [
    "Pues busquemos que hay que nos pueda interesar... y, si tras analizarlo, nos convence... aprovechémoslo (ganemos tiempo). :D\n",
    "\n",
    "Buscando \"Hodgkin–Huxley model python\", uno de los primeros resultados que nos sale es esto:\n",
    "\n",
    "https://www.bonaccorso.eu/2017/08/19/hodgkin-huxley-spiking-neuron-model-python/"
   ]
  },
  {
   "cell_type": "code",
   "execution_count": null,
   "metadata": {},
   "outputs": [],
   "source": [
    "np.random.seed(1000) # Set random seed (for reproducibility)\n",
    "\n",
    "#–––––––––––––– Constantes ––––––––––––––\n",
    "gK = 36.0     # Average potassium channel conductance per unit area (mS/cm^2)\n",
    "gNa = 120.0   # Average sodoum channel conductance per unit area (mS/cm^2)\n",
    "gL = 0.3      # Average leak channel conductance per unit area (mS/cm^2)\n",
    "Cm = 1.0      # Membrane capacitance per unit area (uF/cm^2)\n",
    "VK = -12.0    # Potassium potential (mV)\n",
    "VNa = 115.0   # Sodium potential (mV)\n",
    "Vl = 10.613   # Leak potential (mV)\n",
    "# Time values (in milliseconds)\n",
    "tmin = 0.0; tmax = 200.0; dt=1e-3;\n",
    "T = np.linspace(tmin, tmax, 1/dt)\n",
    "\n",
    "#–––––––––––––– Ecuaciones auxiliares del modelo ––––––––––––––\n",
    "# Potassium ion-channel rate functions\n",
    "def alpha_n(Vm):\n",
    "    return (0.01 * (10.0 - Vm)) / (np.exp(1.0 - (0.1 * Vm)) - 1.0)\n",
    "def beta_n(Vm):\n",
    "    return 0.125 * np.exp(-Vm / 80.0)\n",
    "\n",
    "# Sodium ion-channel rate functions\n",
    "def alpha_m(Vm):\n",
    "    return (0.1 * (25.0 - Vm)) / (np.exp(2.5 - (0.1 * Vm)) - 1.0)\n",
    "def beta_m(Vm):\n",
    "    return 4.0 * np.exp(-Vm / 18.0)\n",
    "def alpha_h(Vm):\n",
    "    return 0.07 * np.exp(-Vm / 20.0)\n",
    "def beta_h(Vm):\n",
    "    return 1.0 / (np.exp(3.0 - (0.1 * Vm)) + 1.0)\n",
    "\n",
    "# n, m, and h steady-state values\n",
    "def n_inf(Vm=0.0):\n",
    "    return alpha_n(Vm) / (alpha_n(Vm) + beta_n(Vm))\n",
    "def m_inf(Vm=0.0):\n",
    "    return alpha_m(Vm) / (alpha_m(Vm) + beta_m(Vm))\n",
    "def h_inf(Vm=0.0):\n",
    "    return alpha_h(Vm) / (alpha_h(Vm) + beta_h(Vm))\n",
    "  \n",
    "#–––––––––––––– Definición del sistema de ecuaciones diferenciales ordinarias (ODE) ––––––––––––––\n",
    "def compute_derivatives(y, t0):\n",
    "    dy = np.zeros((4,))\n",
    "    Vm = y[0]\n",
    "    n = y[1]\n",
    "    m = y[2]\n",
    "    h = y[3]\n",
    "    # dVm/dt\n",
    "    GK = (gK / Cm) * np.power(n, 4.0)\n",
    "    GNa = (gNa / Cm) * np.power(m, 3.0) * h\n",
    "    GL = gL / Cm\n",
    "    dy[0] = (Id(t0) / Cm) - (GK * (Vm - VK)) - (GNa * (Vm - VNa)) - (GL * (Vm - Vl))\n",
    "    # dn/dt\n",
    "    dy[1] = (alpha_n(Vm) * (1.0 - n)) - (beta_n(Vm) * n)\n",
    "    # dm/dt\n",
    "    dy[2] = (alpha_m(Vm) * (1.0 - m)) - (beta_m(Vm) * m)\n",
    "    # dh/dt\n",
    "    dy[3] = (alpha_h(Vm) * (1.0 - h)) - (beta_h(Vm) * h)\n",
    "    return dy\n",
    "\n",
    "#–––––––––––––– Solve ODE system ––––––––––––––\n",
    "# Input stimulus (dos estímulos de distinta duración y distinta amplitud...)\n",
    "def Id(t):\n",
    "    if 0.0 < t < 1.0:\n",
    "        return 150.0\n",
    "    elif 10.0 < t < 12.0:\n",
    "        return 50.0\n",
    "    return 0.0\n",
    "Y = np.array([0.0, n_inf(), m_inf(), h_inf()]) # Inicialización\n",
    "Vy = odeint(compute_derivatives, Y, T)"
   ]
  },
  {
   "cell_type": "code",
   "execution_count": null,
   "metadata": {
    "scrolled": false
   },
   "outputs": [],
   "source": [
    "fig = plt.figure()\n",
    "ax = fig.add_subplot(3,1,1)\n",
    "ax.plot(T, [Id(t) for t in T])\n",
    "ax.set_xlabel('Time (ms)')\n",
    "ax.set_ylabel(r'Current density ($\\mu A/cm^2$)')\n",
    "ax.set_title('Stimulus (Current density)')\n",
    "plt.grid()\n",
    "# Neuron potential\n",
    "ax = fig.add_subplot(3,1,2)\n",
    "ax.plot(T, Vy[:, 0])\n",
    "ax.set_xlabel('Time (ms)')\n",
    "ax.set_ylabel('Vm (mV)')\n",
    "ax.set_title('Neuron potential with two spikes')\n",
    "plt.grid()\n",
    "# n, m, h\n",
    "ax = fig.add_subplot(3,1,3)\n",
    "ax.plot(T, Vy[:, 1], label='n')\n",
    "ax.plot(T, Vy[:, 2], label='m')\n",
    "ax.plot(T, Vy[:, 3], label='h')\n",
    "ax.set_xlabel('Time (ms)')\n",
    "ax.set_ylabel('')\n",
    "ax.legend()\n",
    "plt.grid()"
   ]
  },
  {
   "cell_type": "markdown",
   "metadata": {},
   "source": [
    "Hemos aplicado dos impulsos de distinta duración e intensidad... y parecen prácticamente iguales...\n",
    "¿Pero qué pasa si aumentamos su duración? ¿Y si variamos la intensidad? ¿Qué pasa? ¿Por qué?\n",
    "Este puede ser un buen entregable para esta sesión. ;)"
   ]
  },
  {
   "cell_type": "code",
   "execution_count": null,
   "metadata": {
    "scrolled": false
   },
   "outputs": [],
   "source": [
    "I=1 #(uA/cm^2)\n",
    "def Id(t):\n",
    "    return I\n",
    "plt.ion()\n",
    "fig, ax = plt.subplots()\n",
    "for I in plb.frange(0,7,0.4):\n",
    "    plt.cla()\n",
    "    Vy = odeint(compute_derivatives, Y, T)\n",
    "    ax.plot(T, Vy[:, 0])\n",
    "    ax.set_ylim([-70,120])\n",
    "    ax.set_xlabel('Time (ms)')\n",
    "    ax.set_ylabel('Vm (mV)')\n",
    "    ax.set_title('Neuron potential with $Im='+str(I)+'$ $\\mu A/cm^2$')\n",
    "    fig.canvas.draw()\n",
    "    time.sleep(1e-6)"
   ]
  },
  {
   "cell_type": "code",
   "execution_count": null,
   "metadata": {},
   "outputs": [],
   "source": []
  },
  {
   "cell_type": "code",
   "execution_count": null,
   "metadata": {},
   "outputs": [],
   "source": []
  },
  {
   "cell_type": "code",
   "execution_count": null,
   "metadata": {},
   "outputs": [],
   "source": []
  },
  {
   "cell_type": "code",
   "execution_count": null,
   "metadata": {},
   "outputs": [],
   "source": []
  },
  {
   "cell_type": "code",
   "execution_count": null,
   "metadata": {},
   "outputs": [],
   "source": []
  },
  {
   "cell_type": "code",
   "execution_count": null,
   "metadata": {},
   "outputs": [],
   "source": []
  },
  {
   "cell_type": "code",
   "execution_count": null,
   "metadata": {},
   "outputs": [],
   "source": []
  },
  {
   "cell_type": "code",
   "execution_count": null,
   "metadata": {},
   "outputs": [],
   "source": []
  },
  {
   "cell_type": "code",
   "execution_count": null,
   "metadata": {},
   "outputs": [],
   "source": []
  },
  {
   "cell_type": "code",
   "execution_count": null,
   "metadata": {},
   "outputs": [],
   "source": [
    "import numpy as np\n",
    "from matplotlib import pyplot as plt\n",
    "from matplotlib import animation\n",
    "\n",
    "# First set up the figure, the axis, and the plot element we want to animate\n",
    "fig = plt.figure()\n",
    "ax = plt.axes(xlim=(0, 2), ylim=(-2, 2))\n",
    "line, = ax.plot([], [], lw=2)\n",
    "\n",
    "# initialization function: plot the background of each frame\n",
    "def init():\n",
    "    line.set_data([], [])\n",
    "    return line,\n",
    "\n",
    "# animation function.  This is called sequentially\n",
    "def animate(i):\n",
    "    x = np.linspace(0, 2, 1000)\n",
    "    y = np.sin(2 * np.pi * (x - 0.01 * i))\n",
    "    line.set_data(x, y)\n",
    "    return line,\n",
    "\n",
    "# call the animator.  blit=True means only re-draw the parts that have changed.\n",
    "anim = animation.FuncAnimation(fig, animate, init_func=init,\n",
    "                               frames=200, interval=20, blit=True)\n"
   ]
  },
  {
   "cell_type": "code",
   "execution_count": null,
   "metadata": {},
   "outputs": [],
   "source": [
    "import numpy as np\n",
    "import matplotlib.pyplot as plt\n",
    "import matplotlib.animation as animation\n",
    "from mpl_toolkits.mplot3d import Axes3D\n",
    "\n",
    "def data(i, z, line):\n",
    "    z = np.sin(x+y+i)\n",
    "    ax.clear()\n",
    "    line = ax.plot_surface(x, y, z,color= 'b')\n",
    "    return line,\n",
    "\n",
    "n = 2.*np.pi\n",
    "fig = plt.figure()\n",
    "ax = fig.add_subplot(111, projection='3d')\n",
    "x = np.linspace(0,n,100)\n",
    "y = np.linspace(0,n,100)\n",
    "x,y = np.meshgrid(x,y)\n",
    "z = np.sin(x+y)\n",
    "line = ax.plot_surface(x, y, z,color= 'b')\n",
    "\n",
    "ani = animation.FuncAnimation(fig, data, fargs=(z, line), interval=30, blit=False)\n",
    "\n",
    "plt.show()"
   ]
  },
  {
   "cell_type": "code",
   "execution_count": null,
   "metadata": {},
   "outputs": [],
   "source": []
  },
  {
   "cell_type": "code",
   "execution_count": null,
   "metadata": {},
   "outputs": [],
   "source": []
  }
 ],
 "metadata": {
  "kernelspec": {
   "display_name": "Python 2",
   "language": "python",
   "name": "python2"
  },
  "language_info": {
   "codemirror_mode": {
    "name": "ipython",
    "version": 2
   },
   "file_extension": ".py",
   "mimetype": "text/x-python",
   "name": "python",
   "nbconvert_exporter": "python",
   "pygments_lexer": "ipython2",
   "version": "2.7.14"
  }
 },
 "nbformat": 4,
 "nbformat_minor": 1
}
